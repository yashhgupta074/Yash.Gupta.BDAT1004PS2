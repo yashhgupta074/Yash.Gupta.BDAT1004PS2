{
 "cells": [
  {
   "cell_type": "markdown",
   "id": "d503e536",
   "metadata": {},
   "source": [
    "# Question 1"
   ]
  },
  {
   "cell_type": "code",
   "execution_count": 10,
   "id": "a91c40e8",
   "metadata": {},
   "outputs": [],
   "source": [
    "a = 0\n",
    "def b():\n",
    "    global a\n",
    "    a = c(a)\n",
    "    \n",
    "def c(a):\n",
    "    return a + 2 \n"
   ]
  },
  {
   "cell_type": "code",
   "execution_count": 11,
   "id": "09faf05a",
   "metadata": {},
   "outputs": [
    {
     "data": {
      "text/plain": [
       "6"
      ]
     },
     "execution_count": 11,
     "metadata": {},
     "output_type": "execute_result"
    }
   ],
   "source": [
    "b()\n",
    "b()\n",
    "b()\n",
    "a"
   ]
  },
  {
   "cell_type": "code",
   "execution_count": 14,
   "id": "50f024b8",
   "metadata": {},
   "outputs": [],
   "source": [
    "#Here the value of a is increased eveytime c() is called since it is declared as a global variable, and c() is called everytime when b() is called.\n",
    "# Hence we called b() 3 times which gives the value of a= 3X2 which is 6 ."
   ]
  },
  {
   "cell_type": "markdown",
   "id": "b394f8ec",
   "metadata": {},
   "source": [
    "# Question 2"
   ]
  },
  {
   "cell_type": "code",
   "execution_count": 2,
   "id": "a1097e6e",
   "metadata": {},
   "outputs": [],
   "source": [
    "def filelength(file_name):\n",
    "    try:\n",
    "        file = open(file_name)\n",
    "        contents = file.read()\n",
    "        file.close()\n",
    "        print(len(contents))\n",
    "    except:\n",
    "        print(\"File \" + file_name + \" not found.\")\n",
    "    \n"
   ]
  },
  {
   "cell_type": "code",
   "execution_count": 3,
   "id": "58945b76",
   "metadata": {},
   "outputs": [
    {
     "name": "stdout",
     "output_type": "stream",
     "text": [
      "891\n",
      "File idterm.py not found.\n"
     ]
    }
   ],
   "source": [
    "filelength(\"file_length.ipynb\")\n",
    "filelength(\"idterm.py\")\n"
   ]
  },
  {
   "cell_type": "markdown",
   "id": "a644aa76",
   "metadata": {},
   "source": [
    "# Question 3"
   ]
  },
  {
   "cell_type": "code",
   "execution_count": 21,
   "id": "553ce7e0",
   "metadata": {},
   "outputs": [
    {
     "name": "stdout",
     "output_type": "stream",
     "text": [
      "I am a Kangaroo located at coordinates (0,0)\n",
      "['doll', 'firetruck', 'kitten']\n",
      "I am a Kangaroo located at coordinates (3,0)\n"
     ]
    }
   ],
   "source": [
    "\n",
    "class Marsupial:\n",
    "    l = []\n",
    "    def __init__(self, x, y):\n",
    "        self.x = x\n",
    "        self.y = y\n",
    "    \n",
    "    def put_in_pouch(self, s):\n",
    "        self.l.append(s)\n",
    "        \n",
    "    def pouch_contents(self):\n",
    "        print(self.l)\n",
    "        \n",
    "class Kangaroo(Marsupial):\n",
    "    def jump(self, dx, dy):\n",
    "        self.x += dx\n",
    "        self.y += dy\n",
    "        \n",
    "    def __str__(self):\n",
    "        return \"I am a Kangaroo located at coordinates ({},{})\".format(self.x, self.y)\n",
    "    \n",
    "    \n",
    "    \n",
    "k = Kangaroo(0,0)\n",
    "print(k)\n",
    "k.put_in_pouch('doll')\n",
    "k.put_in_pouch('firetruck')\n",
    "k.put_in_pouch('kitten')\n",
    "k.pouch_contents()\n",
    "k.jump(1,0)\n",
    "k.jump(1,0)\n",
    "k.jump(1,0)\n",
    "print(k)"
   ]
  },
  {
   "cell_type": "markdown",
   "id": "f524c297",
   "metadata": {},
   "source": [
    "# Question 4"
   ]
  },
  {
   "cell_type": "code",
   "execution_count": 34,
   "id": "412b04e0",
   "metadata": {},
   "outputs": [],
   "source": [
    "def Collatz(x):   \n",
    "    if(x==1):\n",
    "        return\n",
    "    elif(x & 1):\n",
    "        x=3*x+1\n",
    "        print(x)\n",
    "        Collatz(x)    \n",
    "    else:\n",
    "        x=x//2\n",
    "        print(x)\n",
    "        Collatz(x)      \n"
   ]
  },
  {
   "cell_type": "code",
   "execution_count": 35,
   "id": "3281e56a",
   "metadata": {},
   "outputs": [
    {
     "name": "stdout",
     "output_type": "stream",
     "text": [
      "Enter a number : 10\n",
      "5\n",
      "16\n",
      "8\n",
      "4\n",
      "2\n",
      "1\n"
     ]
    }
   ],
   "source": [
    "n = int(input(\"Enter a number : \"))\n",
    "Collatz(n)"
   ]
  },
  {
   "cell_type": "markdown",
   "id": "0d0ca3f1",
   "metadata": {},
   "source": [
    "# Question 5"
   ]
  },
  {
   "cell_type": "code",
   "execution_count": 113,
   "id": "2b4c8713",
   "metadata": {},
   "outputs": [],
   "source": [
    "def DecimalToBinary(num):     \n",
    "    if num >= 1:\n",
    "        DecimalToBinary(num // 2)\n",
    "        \n",
    "    print(num % 2, end = '')\n"
   ]
  },
  {
   "cell_type": "code",
   "execution_count": 115,
   "id": "4101180e",
   "metadata": {},
   "outputs": [
    {
     "name": "stdout",
     "output_type": "stream",
     "text": [
      "0"
     ]
    }
   ],
   "source": [
    "DecimalToBinary(0)"
   ]
  },
  {
   "cell_type": "code",
   "execution_count": 116,
   "id": "53da5e02",
   "metadata": {},
   "outputs": [
    {
     "name": "stdout",
     "output_type": "stream",
     "text": [
      "01"
     ]
    }
   ],
   "source": [
    "DecimalToBinary(1)"
   ]
  },
  {
   "cell_type": "code",
   "execution_count": 117,
   "id": "257a5247",
   "metadata": {},
   "outputs": [
    {
     "name": "stdout",
     "output_type": "stream",
     "text": [
      "011"
     ]
    }
   ],
   "source": [
    "DecimalToBinary(3)"
   ]
  },
  {
   "cell_type": "code",
   "execution_count": 118,
   "id": "8c7c6e6e",
   "metadata": {},
   "outputs": [
    {
     "name": "stdout",
     "output_type": "stream",
     "text": [
      "01001"
     ]
    }
   ],
   "source": [
    "DecimalToBinary(9)"
   ]
  },
  {
   "cell_type": "markdown",
   "id": "2f1a998b",
   "metadata": {},
   "source": [
    "# Question 6"
   ]
  },
  {
   "cell_type": "code",
   "execution_count": 79,
   "id": "a688eb4f",
   "metadata": {},
   "outputs": [
    {
     "name": "stdout",
     "output_type": "stream",
     "text": [
      "W3C Mission\n",
      "  Principles\n"
     ]
    }
   ],
   "source": [
    "\n",
    "from html.parser import HTMLParser\n",
    "\n",
    "class HeadingParser(HTMLParser):\n",
    "    (h1,h2,h3,h4,h5,h6) = (False, False,False,False,False,False)\n",
    "    \n",
    "    def handle_starttag(self, tag, attrs):\n",
    "        if tag == 'h1':\n",
    "            self.h1 = True\n",
    "        if tag == 'h2':\n",
    "            self.h2 = True\n",
    "        if tag == 'h3':\n",
    "            self.h3 = True\n",
    "        if tag == 'h4':\n",
    "            self.h4 = True\n",
    "        if tag == 'h5':\n",
    "            self.h5 = True\n",
    "        if tag == 'h6':\n",
    "            self.h6 = True\n",
    "            \n",
    "\n",
    "    def handle_endtag(self, tag):\n",
    "        if tag == 'h1':\n",
    "            self.h1 = False\n",
    "        if tag == 'h2':\n",
    "            self.h2 = False\n",
    "        if tag == 'h3':\n",
    "            self.h3 = False\n",
    "        if tag == 'h4':\n",
    "            self.h4 = False\n",
    "        if tag == 'h5':\n",
    "            self.h5 = False\n",
    "        if tag == 'h6':\n",
    "            self.h6 = False\n",
    "            \n",
    "\n",
    "    def handle_data(self, data):\n",
    "        if self.h1:\n",
    "            print(data)\n",
    "        elif self.h2:\n",
    "            print(\"  {}\".format(data))\n",
    "        elif self.h3:\n",
    "            print(\"   {}\".format(data))\n",
    "        elif self.h4:\n",
    "            print(\"     {}\".format(data))\n",
    "        elif self.h5:\n",
    "            print(\"       {}\".format(data))\n",
    "        elif self.h6:\n",
    "            print(\"         {}\".format(data))\n",
    "        \n",
    "        \n",
    "infile = open('w3c.html')\n",
    "content = infile.read()\n",
    "infile.close()\n",
    "hp = HeadingParser()\n",
    "hp.feed(content)"
   ]
  },
  {
   "cell_type": "markdown",
   "id": "df4494d5",
   "metadata": {},
   "source": [
    "# Question 7"
   ]
  },
  {
   "cell_type": "code",
   "execution_count": 122,
   "id": "3af33a6a",
   "metadata": {},
   "outputs": [],
   "source": [
    "import urllib.request\n",
    "from html.parser import HTMLParser\n",
    "\n",
    "def webdir(url, depth, indent):\n",
    "    \n",
    "    if depth == 0:\n",
    "        return\n",
    "    \n",
    "    try: \n",
    "        response = urllib.request.urlopen(url)\n",
    "        html = response.read()\n",
    "\n",
    "    except urllib.error.URLError:\n",
    "        return \n",
    "    \n",
    "    new_url = html\n",
    "    print(\"    \"*indent + new_url)\n",
    "    webdir(new_url, depth-1, indent+1)"
   ]
  },
  {
   "cell_type": "code",
   "execution_count": 123,
   "id": "588e837e",
   "metadata": {},
   "outputs": [],
   "source": [
    "webdir('http://reed.cs.depaul.edu/lperkovic/csc242/test1.html', 2, 0)"
   ]
  },
  {
   "cell_type": "markdown",
   "id": "79dea1b1",
   "metadata": {},
   "source": [
    "# Question 8"
   ]
  },
  {
   "cell_type": "code",
   "execution_count": 4,
   "id": "3b3b62f6",
   "metadata": {},
   "outputs": [
    {
     "ename": "SyntaxError",
     "evalue": "invalid syntax (804922096.py, line 1)",
     "output_type": "error",
     "traceback": [
      "\u001b[1;36m  Cell \u001b[1;32mIn[4], line 1\u001b[1;36m\u001b[0m\n\u001b[1;33m    Desire                                                                                              Querry\u001b[0m\n\u001b[1;37m                                                                                                        ^\u001b[0m\n\u001b[1;31mSyntaxError\u001b[0m\u001b[1;31m:\u001b[0m invalid syntax\n"
     ]
    }
   ],
   "source": [
    "Desire                                                                                              SQL COMMANDS\n",
    "All the Temperature Data                                                              SELECT Temperature FROM rain\n",
    "All the Cities, but without repetition                                                SELECT DISTINCT city FROM rain\n",
    "All the Records for India                                                             SELECT * FROM rain WHERE Country = India\n",
    "All the Fall Records                                                                  SELECT * FROM rain WHERE Season = Fall\n",
    "the City, Country, and season for which the average rainfall is                       SELECT city, country, season FROM rain WHERE rainfall>200 and rainfall<400\n",
    "Between 200 and 400 Millimeters. \n",
    "\n",
    "The City and Country for which the avrage Fall Temperature is above 20 degrees,       SELECT city, country FROM rain WHERE Temperature > 20 ORDER BY Temperature ASC\n",
    "in increasing Temperature Order\n",
    "\n",
    "Total Annual Rainfall for Cairo                                                      SELECT SUM(Rainfall) FROM rain WHERE City = Cairo\n",
    "Total Rainfall for each season                                                       SELECT SUM(Rainfall) FROM rain GROUP BY Season"
   ]
  },
  {
   "cell_type": "markdown",
   "id": "fd35fda7",
   "metadata": {},
   "source": [
    "# Question 9"
   ]
  },
  {
   "cell_type": "code",
   "execution_count": 87,
   "id": "d4adc500",
   "metadata": {},
   "outputs": [],
   "source": [
    "words = ['The', 'quick', 'brown', 'fox', 'jumps', 'over', 'the', 'lazy', 'dog']\n",
    "\n",
    "upper_words = [x.upper() for x in words]\n",
    "lower_words = [x.lower() for x in words]\n",
    "len_words = [len(x) for x in words]\n",
    "combo_words = [[x.upper(), x.lower(), len(x)] for x in words]\n",
    "len_greater_than_4 = [x for x in words if len(x) >= 4]\n"
   ]
  },
  {
   "cell_type": "code",
   "execution_count": 88,
   "id": "ad3d6a9b",
   "metadata": {},
   "outputs": [
    {
     "name": "stdout",
     "output_type": "stream",
     "text": [
      "['THE', 'QUICK', 'BROWN', 'FOX', 'JUMPS', 'OVER', 'THE', 'LAZY', 'DOG']\n",
      "[3, 5, 5, 3, 5, 4, 3, 4, 3]\n",
      "[['THE', 'the', 3], ['QUICK', 'quick', 5], ['BROWN', 'brown', 5], ['FOX', 'fox', 3], ['JUMPS', 'jumps', 5], ['OVER', 'over', 4], ['THE', 'the', 3], ['LAZY', 'lazy', 4], ['DOG', 'dog', 3]]\n",
      "['quick', 'brown', 'jumps', 'over', 'lazy']\n"
     ]
    }
   ],
   "source": [
    "print(upper_words)\n",
    "print(len_words)\n",
    "print(combo_words)\n",
    "print(len_greater_than_4)"
   ]
  },
  {
   "cell_type": "code",
   "execution_count": null,
   "id": "cb806a7b",
   "metadata": {},
   "outputs": [],
   "source": []
  }
 ],
 "metadata": {
  "kernelspec": {
   "display_name": "Python 3 (ipykernel)",
   "language": "python",
   "name": "python3"
  },
  "language_info": {
   "codemirror_mode": {
    "name": "ipython",
    "version": 3
   },
   "file_extension": ".py",
   "mimetype": "text/x-python",
   "name": "python",
   "nbconvert_exporter": "python",
   "pygments_lexer": "ipython3",
   "version": "3.11.1"
  }
 },
 "nbformat": 4,
 "nbformat_minor": 5
}
